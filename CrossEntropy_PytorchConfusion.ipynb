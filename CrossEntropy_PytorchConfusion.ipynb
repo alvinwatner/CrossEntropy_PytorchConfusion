{
  "nbformat": 4,
  "nbformat_minor": 0,
  "metadata": {
    "colab": {
      "name": "CrossEntropy_PytorchConfusion.ipynb",
      "provenance": []
    },
    "kernelspec": {
      "name": "python3",
      "display_name": "Python 3"
    }
  },
  "cells": [
    {
      "cell_type": "markdown",
      "metadata": {
        "id": "VLrYyv3vsBgu"
      },
      "source": [
        "##**... Meanwhile on 15 Dec 2020**\n",
        "---\n",
        "####I was quite familiar with softmax and negative log likelihood function. But below Crossentropy function from *pytorch.org* gave me headache. \n",
        " \n",
        "> ##### *author : alvinwatner*"
      ]
    },
    {
      "cell_type": "markdown",
      "metadata": {
        "id": "9XIcAvCiJ9e4"
      },
      "source": [
        "![Screenshot from 2020-12-15 18-28-35.png](data:image/png;base64,iVBORw0KGgoAAAANSUhEUgAAAq0AAACPCAYAAADQp+K/AAAABHNCSVQICAgIfAhkiAAAABl0RVh0U29mdHdhcmUAZ25vbWUtc2NyZWVuc2hvdO8Dvz4AACAASURBVHic7N1/kBNlvvj79/eSu31Ky/4WW3QtW3YtdUgZDjk7HLIMl5RwyRWOKUFzZDRHRvMVNMLoHBmco6NRxp3V0VGyjJqVleioUdS4g8SDGtcfYf0R1x/hLtrcZQ0ra6hFe2tnbWv52hwpeh2q7x/JMMMwwyQDmMA+r6qtxUz/eNJ5+ulPPz//h23bNoIgCIIgCIJQw/6PaidAEARBEARBEMYiglZBEARBEASh5omgVRAEQRAEQah5ImgVBEEQBEEQap4IWgVBEARBEISaJ4JWQRAEQRAEoeaJoFUQBEEQBEGoeSJoFQRBEARBEGqeCFoFQRAEQRCEmieCVkEQBEEQBKHmiaBVEARBEARBqHkiaBUEQRAEQRBqnghaBUEQBEEQhJonglZBEARBEASh5omgVRAEQRAEQah5ImgVBEEQBEEQat6pG7TuzRDfkKbQfyIOZqI9HyeZM0/EwWqO8V6C2HMa1sk6QX+BzCNx0rtP1gmOYXecRu9iornStzuh+aLI/DBF/Okcp2fuEARBEIRTQ+0FrTtjLP7naUybNsr//rmB+G6wdqSIP5FDPxHn7NfJPhYn/bvTMyzJ/zJO4q3CyQtaD+RJPZQg13eyTjAW6/B3O6H5okR/M0785bwIWgVBEAShihzVTsBRpviJ3OMsBQgW2lPtJB0huq7wIAEg454M7KpiGoXa4WqmN9dc7VQIgiAIgnCS1V7QKrvxXewu/YcFWztJTfASvNh/xGYnrdZQOLVYOtqbeaj341GqnRhBEARBEE6W2useUBGTwi+jNC2azYwZs1m4Mo42tA13n0bilkYWzp7BtB/No+GWJPmvyzy0kSN+UwPzflTa94Y4OWPImXNxWgKzmfHPM5i9oIGWDaU+j1aB9B2NLJw9jRk/msfiZe2kRuvrOSR9A9smd1mwTyN5dxMNvhlM++cZzPYvJ7p1sMFb+1kD825IkH2sjQbfDGb8aCHL12UxRjkNAF8XSN+xnIWzZzB7QSNtT2pHNHdbu1J0LlvI7BnTmDGvgZZHtGM0hxvkHmuj0V+67ktjaEe8RVjor0ZpCswrXp9FTcTeNA7/Lf9sMd3TZsxmXqCJ6KuD383claIzvJjZM2Yww7uQxhsSaPsAI02bv4Ho80naArOZ8aN5ND1dACNDNBIlc0TXBAPtyTYafbOZMXshy+9IHfm7j5EvrN1pos3F337GvIW0vGiM8pJkoW+N07ZsMbNnTCse66Yk+YELd6y8YJmY5eZFQRAEQRBO8aDVzJDYZOK+IkLHah/SthjtT+SLf+vPE7+uiUSfh+ZoDxs7Qyjvd9KyQRv7uJZGbGUTiT+6CXeup+cnIdTdcZpWxshbgJUl2hZHn9lK9/puOq72IX8HJEB/up32t2SCt/ewvquVgEtGkkY6R57Y1cuJ7VIJ3tpNd2crgakWpiXBJxnSeQXftV2sj3UQmlIgsSZKuhQMmX/RMX4VJ7ZLJXB9B5F/U8g/2U48d4yvtCND9kw/rZ1dtM6H7L1NtD1XCiT3pmi5Ooo2NUxXfCPdK1TyD7UQfXOkUM0id+9ymh4p4Lyii/U/76J5gYo0pM7eeLWdxo4s8sUd9Dy+nki9QSLSTsoAdsZoWauhXt1FT6yD5n9VkBxyccc9SVqWdZKV/ESi3XTfHMKNifkdwDLQ/1QguTaBOb+VjrYQfrc68pc1c2R2qgRv7qLrWg/GS+003ZkpBuFj5Qs9RcuydtL9Plq717P+1hCeiaNdVZPcixnM6UEi962n+z998FYnbaU8OGpe6M8TWzKb2Ys7yZ3AAWOCIAiCcDqrve4BlZADdDzRhV8CCCDtzND+hwIWbqytcRJ/8tP9egTfmQBelM8yNLyhoeNhlHAHAPO1BMk/eel4pYuAAuDDN1OiMRAn8U4z3TMNdFPGeV4A/wIZ8BMo7Wv06TA5TOBCH6oDfItGOcfWOMnPPERe6iY0kJiLgqV/ROj1Dm7rn2KQDabJ74VAXfEz6dwIG+8LIgP0q+R/1UT+9zp4R/5m0txmum8ubb/Ih7xvIW3Ppihc1ozxRAzNE+GVO4IoAHOdGG8uJLEtDws8Rx6oL0X8Fwben7xC16Wl9viZFpmnO0sbFEg9kkG99hW6V5TSUmeR/WU7uZ0QOGRgOJz4LgzgU4AFA1fOIvdEnNzZYbasb8Vdypn+S0t/3lf8P+eKHnqudQ6mZ6QRV3KAyH2t+BwAfjySweJ1STI3+/FvP3a+0J+MkZ0YovfnrXgkAB/KriSZ7SNdVYXgz7cQPPzfPqTtadp+X8yDo+cFCeX7CvJXCvJIhxUEQRAE4SindtCKhDRh8N/ymRLsK44kL+zIYxo6TT9KHbnLrCAjVXwOVcjnsaaH8Q7tIznFj++cGOl8Ac73Ebo4QVvLQhaf6ydwUYjQhW5kB7gvDeN5Ocpifwbf+QGCVwTxTTn6jIWdeax/DI4WY4JZIPtyhtyuAnpfHv2QBYeG/P2IX05GOYsKpnmS8c31IP26QMHS0XcamL9rZ9609iO2cs4a4UrlNfK4iSwYpQOpqaHtsdDWLWTauqF/UAhKINUFCf9jE+2LF5I+L0DgkhBBrwLoaHkTdY7vcMB6lAkK3nOdo/xxdOpcL861SfKfgfOY+aKAppmoc/2lgLUcFsaODOk3NfJ7DfSdgLOYB0fPC05CiXcJVfxNBEEQBOHv1yketB7DIZBmRnhlU/iYtaqVGGwCV/DftYU3lmRIv5omdXcDya1d9P48iDo9zMaMj+zLadIvx2kJJAk9sYXISAHgaPrStF3RjjYtTPO/hwkqWdq3pcberyKlpv8JFhYS6oqNvHGz59i7ABwC69AxvsshsJAJxN+le8FI23lp3fQG/q1p0q+liV6TJPWfvfSuGNz/pJggFV9WjpkvCnDIgglH/WEUFvkNy1n+lIV/RZjg9R7MJzXaSr0upBORFwRBEARBAE71Pq3H4Kxzwq4MmT3j2NflhF1ZskNHNvXlyP1Bwu0eqOmTUGYFCN/ew5ZoEN7JkCs1YSM78V3RSvezvbRO18lk8iOf4w9ZsnuPPr+xNUV6v59IrJXgAjdORR6zdrgyBtl38vBDDx6HinuajP5mZthgqlE4nTjRyL43yjCts9y4zzbJvZYdfSCXQ8G9KEzkZ1vouUoh/2oWHRW3U0Lfli32Gz6B9HeyFCQ3nnPGyhcqTqdcTEM5tdb9GqlnNdSru+laEcDrUpGHB7yj5QUxEEsQBEEQKnLa1rTKFzQTfmw5sRVNmNcF8Uy00HdmKTgjdFx87LmR5AvCBB9ZTvS6dqwVflR0Mo/FyP1jmN7zJNiXpnONhnKeB+ckKGzOYUz24zwL8o+1kDA9eKc7kfdlSe8B56VH1+nJ5xfPEbuuBWtFAKdkou/IYS3qJjRRRj6gkX4ui3KOhbY5iWaZyHkda+b46o2tnWniz8n4JkNha5zYOwqhniAKEr4VYTzBKC0rLZov86FOMMj/WkO+qouQa9iBpgYInZug/e4mOveF8E400X6ZIGdR7NfrcBNe4SfV0c5yh074PCeSWSD3vkUg2ox7W4y2X4J3jht1gk76TR25TkVBQr0yhDsUp2kVtF7iRj6go71v4u1sxVfJlz2QI9WThn+RMX+XJv5IHve1vfhlYIx84bsiiHNZgpZWieYLnfBZluTzOtaUkU4kI0+Ewpsp0v/iR/4sQ+ItA2tSgbwB8ouj5IX+PLElDcQPhNj4Rgfe0/YuFARBEIQT5/R9XEoeWhM9yGtjJNe1ED8goZzjJTizjH3P9NJR2jfensJAwfOvzWy8LVzqb6mgnpEn9VAa/UsL+YcBOn7WiscBBUXBfDlJ9Bkd6ztOvJevp+uSEYJk2UvHo+uR1sZIdrVg9MuoP/QRvtRCviBC1/Y2Oh9oYvlZHoI3Ruigk+iTSfKXRSq/FGcoqJNMsg+1k9wHyg99NMcjhL2l+tupYXo2SkTXJYitSWI6FJwz/TSPWL2rEvxpD+a9URIPtJM+y41vqQ/3O+nDWyiXdtPriBF9LEH7iwacpeKe31wcsCQryH1J4ncnMCwZ93mtrL/NX6xJrmulJy7ReX+SzjYD6wwF97kh/JV0GZggo/xARk9HaXvYhLM9+Ns2ErmiNPfvGPlCmhWhpxs6H0zQ2Q7qrCD+OSqFkVb7crgJ3xWhcFuc9qYU6vxmIj9pxrozQeKtZiKj5QWHKQZiCYIgCEKF/odt23a1EyEIgiAIgiAIx3La9mkVBEEQBEEQTh8iaBUEQRAEQRBqnghaBUEQBEEQhJonglZBEARBEASh5omgVRAEQRAEQah5ImgVBEEQBEEQap4IWgVBEARBEISaJ4JWQRAEQRAEoeaJoFUQBEEQBEGoeSJoFQRBEARBEGqeCFoFQRAEQRCEmieCVkEQBEEQBKHmiaBVEARBEARBqHkiaBUEQRAEQRBqnghaBUEQBEEQhJonglZBEARBEASh5omgVRAEQRAEQah5ImgVBEEQBEEQap4IWgVBEARBEISaJ4JWQRAEQRAEoeaJoFUQBEEQBEGoeSJoFQRBEARBEGqeCFoFQRAEQRCEmieCVkEQBEEQBKHmiaBVEARBEARBqHkiaBWEmmWRf6yFlqcL1U6IcCLtSdJyQ4KCVe2ECMLJY+ZiNK1JY1Q7IUIFTLJ3N9H5Zu3+aiJoFYQaZbzaTtubbpovc1Y7KcKJNDVI87QMLXdmxANdOD3tSdJ2Zx7ftQGUaqdFqICM79og5gNtxHfV5lu1CFoFoRbtTtCy1iB4dzNuqdqJEU4sCXdTF0G9k7YnRS26cJr5WiN6Qxzpui5CU6qdGKFiip+Om1XSN3aS3VftxBxNBK2CUGssjdgtcbiyg/DUaidGOCkcTsJ3hLEebiO2szZrNAShcibZtW2k1FY6LhZ1rKcqeX6EiCdH+x21171DBK2CUFMstIfaSRwK0XGl6BZwWpsaouMyi8SP4+RF3CqcBsx3onT+UqH51qDoFnBKk/H9ZyuebVE6X66tsFUErYJQS3YniD5p4l8dFt0CTnsS7hWt+L9M0PkL0U1AOMVZGvF7U/DvEdEt4HSgBGi9WiG7LkbWrHZiBomgVRBqhkH6wQT5qSGaz5OrnZgxHe/oYP3ZJhYHGmhY2kJyzwlN2kmmk7qlkYZLF7N4ZYLBcNMgfUsT0fcqKOFlP81XOMk/HCNdg/3HBKFc+i+iJP/ipflqD+J9+/TgvLwZv5Um+kS+2kk5TAStglArdiSIvwW+q0M4HdVOzBhKA8VCt45/dLC138K9egtbNq0nVG7fXSNN+9LFLPTNY/bs5SSr0nKlEvxpL1s2RfBYQ9v1FQK3hzDXtZCoYOSt899DeA9liNfQg0EQKmJmiT+hIV8YJjC52okRThjZT/hSlcIz8Zp5qRZBqyDUBJP0EykKE/0EL6jxWtb+AvEfJ1GujeD7tpOq+In8NILvDANzkhvPxG/5/GORfUSuV0jeHiffX+Y+SoDQ+QqF5xJkaqgZThDKpb+YIP2lk+BlPlHLeppxXxbEcyBDoka6MImgVRBqgZ4m+ZaJemEQX42X+uZrMRIHAoTPr0ZwLSFPsjD+ArLHW5M10vJ5YQJ/SxL7r3KrgSW8/+ZH2ZchWWODHgRhTP15Us/msP4pQKCu2okRTrgpAQKzJPKpJLkaGDAqglZBqAGFl1Jolop/kafaSRmDTvrZLOqiAO5qBYw7c2hfS3hm1WjfOYebwEUquU0pyq2bkOoD+M+2yD1f/j6CUBP+vxTpPeBeFEDMd3I6UvBf4EH6U5rUO9WPWkXQKgjV1p8nnc7D2T78P6xSGiwLq5zmbD1L+ncK3nOr93gqfKRhOJx4PLXbjcJ5rhflD1mye8vcweHGP1eB32fI7D6pSROEE8gi90IG3eHGv0CtdmKEk0SZ78ftMMm+nKXaPZhqsHFNEP7O/CFD5jOQL/ZVUHtpob8aJ/pkFn2ChLUf3Be1ErnGi/KHOI1XJ8jvN4uBqOSlI9ODsm42LS+X3pQlD5HnOzBvbCC+G0DBf0MY9Y95TIdFPpcHT4jIrWG8Q0ZaWTty5HGPOnBK3xoj+kQWfb+FVBem41qF9LoE2p9NpPpWum/zjT1wy9LJPB4jmS1gSTKSpOBf3UWoTgIMtO0F+F4I7w+O3tXckST2UJr8IQnpLA/BOTrxF510J5uPvLb9BtmeTuIZHSSwJA/hezoIqBVuM5qpbtyOJNoOE6aUE1xLeOZ7kZ9Lk/lVgWaXqLMSTgGWRuYdA34QwDfC/SicJlQvvn8C7f0Mua/9+M+sXlJETasgVFnhnSyFfgnvueU3d+vPtdB4Zx7vvb1sebaXV34WwHisiaaePExvpjf3G37zVBinA9RLmglOlvBfFcI50UP452/w29/2Ej7HTeuW37LlP9yAgZaXCP6km6571rNlUwS3FqUpHCX39ZC07i5gTVZRzzg6TeZ7nbS/rNL6xBa2pDpwvtdOYyiBsrqL8DQT7RcJMmN12ezL0B5sIFrw0pHYQu99YZx6huiD6eIbvqWR22khezxHBfjGq200rEwhXdNDb2Ij6y8zid2ZpjBBRhm2bb6nifbtHro2baE32U3QkSb2pFbxNqOSnKjfsygU9PK2B6R6Lx4J8tks5e8lCFW0K0u2D5T6Sl64hVOPE2+9CmaW7IfV7SIgglZBqCqD3HsFcLjx1JXZ3G2k6VyXhQvChKaWwtypQULzJfKpFFqpmV+a1UrX/3Ki/1eU+E6dzNMa7p+sJ3K+OhgcOyRUVUFCwXd5COfAG7Tip/U6X3Gxg2eGzETaZ8BE5aggEAokHzcJ3hHEKQFYYAEzgwSnmmiagTTde+zR/v0F4je0keoP0n1PsJiWQpbMHnD+0I0MsEtDMyXcc4YF+HuTtHWk4ZIOWr3F6yjP9OCWQPW4j6zd7ddIpfLI073FtH6pkc1LuOvUyrY5FoeMMrF0vco10YNnKrArR06MxxJOAYX3c+hIuGe6q50U4SRz13uQMcm9V92p+cS7kSBUk6Wh7bJgkhv32WXusi1DzgTeitKwc8gfDsgoDgvzEKU7W8KzuoPwO8uJr2zEuaCD3kVHN85Lo5QCyhwvbkcW7b0cxrVOFCxMywJJGqFGWMF/awTnQFC6R0PbD545XmSHQiT9WyJjlDbmL2Mkdlh4bgvhGTiBt4M3PoognVn8QN+uoTucBOuHfg+L7ENxcgecNC8ZEsz+IU/+kIxnlAdq4cnlLN7pwzvXR2vmXdwjvDOUs83IJOR/AMuysKDMGnQnbrcMu4q1ycEFNTnMTBBKSl11HM6xX7i/NtC/tLAOjVJLV+70cCNxSChTVWq3h/vpQZruxulIo23X0PFQrR7MImgVhGrapaGZIM10l928ZuwzsADP1evpvWqMouNML803BkitSsMktbLR9rJc3H6fgdEPiuNYwZeM0zUkjZpGASf+geByzO9mkn0ti+lw4j33yO80ELCCSe7DPEwK4hnaf87KFfvVfS+A75zBj/XtGjpuwjOHpdrhIXxDkNydKQrb0hS2pUlldHo3Den3Ws42ZamsKc39Qzc8nyO/owALRO2VUMOsPLmdFpzhxDnGsq3ma+0sXpM9fDdIZ7txTz5GaXSodIp+q/jvQxamaWB8aY4wYFQmEHuD7kUibD2pJrtxTwTtD8Vnllqlyy2CVkGoImN3Hh1QpzrLrilQJilIgGGUM45TJ/NiAecsFe3JduLn99JaV2boahjFfqTKQHcACUmSijMNHHNHC22bBhMDeA8HkSaFPRbOqaMNwzLQ/2zBWaUm8hEPq6FpFtIcLx6Hib7HQp2qwD6dwn6Q6t1D5m010T7Mww/CeCaCubcAU5zImBTe0zDndPHK/xtB35Uj/WAnsfczZD9rxj21lNYxtxmLhXkQpElyRS8KyhQVBdB35TFxi9ojoXbtzVM4APyTs9QlaHTyxRFan88RLfWHtCQPrQ934K00g/dbGHvyaNuzZH+VJv2ejoVJ5hdp9EWhqtX+/V1wOHFOBbblye+BwMzqJEP0aRWEKirki/1F1SnlF7fS3AD+iaDnshSOqHUoEG+Okhvymf5cJ6nJEXoe7iI0OU9iTRxtxIjTOly7cfho72TI90t4/3VwxL8yWTlc83qEvjQtvmnMviGDaeXIfmgh1Q0OlrI+jNP57LFmIJVRviuBLB89u4CpkXxOwxroclDvQdqbov0hrRg8nyEjTwDl7CFNhGaOrGYh13lwohG/M0WhH8yX22kMN9H2hAYOGbXOT/hyL/IZKs5JpV3L2GZM/SbGvtL1qsQUJ6oDrEJ+2G8rCLXF2l3Mo5LqHDtYdDgJ/7QD3+HuQ0na7s5Qcddth4Ti8uC/opWuxBu8m+4mNEvG+jBJalfFX0GoiIJzigzo5HdXb+KrUyNo/Xqsmp2TrL9A6pYW4jurP7FutRWebqHlsXx1f48Trdw5Sk84g8JnBiCjqhUEN7KfyO0BlN8naH8oVwogLfJPxtBmBvA6iv9tvBej7X6LwAovsuyl9dYA8u447ffnRphrzyTzWJx8aaYAc2eczkfyyHNa6bhs8JGkOp1IfTr6gWG757PkvlTw1KuYL6bIHZBgQqn6pS9L9CGD4ArvMb6Ugv9yP0pfjsyuwdxl7EjSfl0MfbKKZFlYyChnyxR+mUX5V2+xFlP24p8jYewpFB+CZp5EJEpmfylo3J4hP92PxwHWAQvrbD+tV5QWcbAKpH6RQ728+fCStOVsMyargP4XCWelU1cpKqoEfFmsPf67sTNO46IGGi5tpP2UWhVMJ3VLIw2XLmbxysS3vzBEv4VVpcJY/0zHovjCXVZrghqk6yeBwy+lxovttD9/fPNkyK4AHU9toftCi/SmXE0/l8xcjKY16coD9eLepG9ZzOJLG2hcWeYS0fsydF7RQMOSxTTeP3TWE4P0LU1E36s88FTU4rNAL1RvCZTaDVr7M7T9aBrTpk1j2v/VRKpq5ZhJ9s420u5WmsttVj0J8o800bBoIfO8M1h4d65q6XBe2YF/Zxttz53qk/IYpMIzivlrxmzatlYhCf06ug44FJTJle2qXNTNlqeacX7YScP/s5DFS5YT/ypI17VuyHWy8EczmBeOo+3LkdyUB3TSTxZrNgpPLmf2j2az/Mmhv6GMd75CuqOFlnADjbdkkC9fT++j4SOWSpVnenBTbB46wpwQ4XMVjBfaad/po2dLN8G/xmlcupzld2fx3NpFYIzvKJ/fRc+tbnK3NNCwtJHGK5bT/oKF/6c9ROYr8MMQrRcqaGsbadeDtB5eRlYheNd6QocSLL+0kcbWBKzopfdmH9bLbTT2QPiqYgCqXByhw2uSuLGRxisaaVzWSX5uNz03ug8/eMvZZkx78uT7PXjrKywzJqio3wMOlfLG34tDJtL8DrY830vXReW+wBVI3tDAYv88Zv9oNm2vViNkUQn+tJctmyJ4vsXosbChoVh2/fMMFt5bneeB/sdiBq2kNUFZ1EH35QMvwSbZte0khpcllXKoBO7qJrAnRWbfcR7rZNmdoGWtQejWwNjzVI/COqASfmwLvY+O3q++8FwT87wNxHcBE/10PLuFLXf5kQ4MzZsKgdtDmOtaSOyqLM8qk0td0z7Tq7fIgF3LvvnCfv22ubbLvcx+5ovqJOGrzE32gks22B9/U53zDybkC/vT5Eq7zlVnr3zhq+qm5c+b7ZXzl9nP/LG6yTh+B+0vNhWv6apXqnH61+1VdS7b5V5mb/7rSTzPaHm39PnBF1bada659pp3yznYp/aGS+rsJQ99etzJ+vThZfZNmeM+TPV887a95soN9khX4tOHl9h1Vz5jf17xQb+wn7nSZbtcdaf2tamUttZeds9HFe928ItP7Zdunmu73Evtxyu/2CfOMfJCeftXvsvBwgZ7qdtlz/3JB+M963EYmk8PVrbrwY/sBy6us10ul+1yuey6Sx6wP67wECMe9vOP7U9PZjk6Xt98am+4bIF90yvH89z+yt58/coxnhNf2a+vrrddc1bam4feC799wF5219F5pBjbPFBZbPPunfZcl8t2XXIcef041W5NK4BDwVlJs+mJ1p8n8WAW97JQ9SdOlhX43zqWw413ZpWHZ0wOED5PJ/5Q9Zd0Oz4Syg+qOFWKoWMcAiQFeYTJ+k+Y0fLuQH/Tig7mJLjUi/5qurwmqr9H/XnSLxv4LguMY2CIjCxLgIVhnErN5NUhKTJmnwFne/BU2FpRK6xX22h6rvLfWvqBE2XCSUhQOfoNitlTRv5uha0JkofWn7biKc0Jbf0uTtu6kbosVXhY1T045V4NMV+LkTgQIHz+yX7SyPjve5ffZHsIllHwyOeFCfwtSey/Ksh735WRHcCXI4xr+JbUdtBaZda2JKk+L4HzamEMr0Fue6FYOJc5n+fJI+EN+JF+lRx7hSNhdPvNYkF9VnEgUdVYYGFhldm8qVzSSmhCisTWU/uV5WQx30qQPiNE6wXjKTcklInF/cz/La7vmL7WyO0Ceaa3+hUL43Xo6EGQtc/A2Eexa9NZ49jdFab7Vt/hCoPC0210bj0dHyY66WezqIsC307+dEjI5b5DONwELlLJbUqV3xf7LKX4m+0zivOBV4EIWkdlob2WxZzpq3xajpPhaw1tZ6lPYS0Uzj/04v1Ojsw7p/iD9f+s4rn/amD2Uxz9Xo3z9xdILJvHwruzgEm6dR4LV6XGHijgcNN8bwj9kRjZU/znP+HMLLGHDUJ3NR/RF7gS0hnFp47xV3Fxx/T7HJopFWeUqHZaxus4Hv6jLQxy0h0yMQ8ASEjjbCVSL+sa0n/ZIP3jdlKnSD9u6+sy26f0LOnfKXjPrXBA5rfEea4X5Q9ZsnvL3EGWis+qQyZmlYqnWgh/xsXckST2UIqcISFjIbkDtP5nGM/APWBqJNfGye6DYj2SDH+WCae68DnA2p0i+mAG/RDQX1zlx5jgZ+PPgsUfpb9AboeJet4ocyWaeZJro6Q/MTH/RKVb0AAAIABJREFUpuC/tQP/3jix1woYlkLwrm5CrgqL0b4ciYcSZPIm/E8J6SwvzXc0453IkMLZe3ThbOlkHo6S3GYWl+W8KIDyQgz9yi1HTbhs7UrReW+S/NcSHLJQF3XQda3niO9YzjZIbtwuiO/Q4FJfZd/zVNCXJXF/gvQuE+kMsGQPodWtBIeu/NJvkO3pJP6qDmeAJbnxzZLQ/6STf98k+Ggv4enHOMcBq1jTeoZUnYePw0k48S7hoecus8lHmt5Mz81R2tamcd8zvsEF0lkS+QcbaHhYJbhuPaGy5j+tBTqpm1pIFiwsJTjkc4P02iTSjesJu0bdeUxyKWi1qvVUOEGsPWmi65JofzaxZC+td4SwnoqS2m1g/k8/HdFmPGO+rVkUXowRez6H3i8jOyTUSyN0XOxEAgrbNQyHE0/9CAfqy5G4P06mDySHgu/f3eQeyOFL9BAa1nyqvxql87EchgOwZLw3dhcH/1W4TU34tsquQwAS8pnH2O6YFPw/6Sa0cznJvcC+LNE1CTyJ8Lhf+EbVb5B9PEr81QJIYPar+K+L0Hy+ivlcEw3rchhmKRCd3sorm7wkFzWS/FNp/ylhehMqscWd5CyKi7a0uTF2mGAVYwX3JREi1/tQh6Td2pEjj3vUsk3fGiP6RBZ9v4VUF6bjWoX0ugTan02k+la6b/ONXbYOxCIFA6PfQ+v9XQTGWOzhsKlu3I4k2g4TppRRdSLJSBMoLvYwfAaZb0uV+tKW7dOHlhw1EOuLN9bYi+qX2A9sH+jY/JX90X1L7Przb7Jf/8K2bfug/fbNc+0lsY8P73Mwv8FeOucm+/VvbNv+5iN77QUL7DXvDvb+/nzTSnvu1Zvtw6f575fsVXV19srUCJ2nv/ncfub6Zfbad4tbf/HUUttVV28vuv1t+4vfPm4vnVN55/ivPnjAXjpnrr3yiY/tr2zbPrj9AXtJvcte8mixR/WnDy+xXe4l9obCsB3/+yN7w+X19tzrNtufHiyl7co62zXSwJovXrdvmr/IvjNb/E5fZe+0F3mW2Zu/qHCbkrdvq7ddl4812ORze/PqJfaSixbZi8r835LrHv/2Br5tv9OeO3wg1ueb7VXz6+1lj35sD+SQgTy39oOB/HDQ/uini+y6OavszX8u7fbUMruubom9If+RveHKpfYD2489uuDgC6vsOpfLdl3++DgG7Ainq88fXVIcoLL6dbvs8Sl/fd1ec8mSsu+xRRctsZfe90H5x6/UFy/ZN129xn79c9u27a/sl66vs+s8C+xVL3xuf7pplT23rs5e9cqQs480EOubT+3NqxfY9Rffab/++UG7WJYssOvqb7Lf/qZ43M0r6mzXeWvtj4aXF4Vn7JXz6+2lD5fu4S9eslfNcdkuzyr7pWFF+sEP7rQXzF9lv/Rn27btg/ZHsSV2/bCBJmNucxwDsQ6+sMpe+dQ4Rhp/87p9k2fYs+ZbKrvszx+3l7pdtqtulf3Sf1ee9KEOag/YS+pcpYFZdfaS2McnOF9+Yb9+8wK77rIH7I9Laf0ivcqe615g3/nBwJkO2p8+vNSuc9Xbq0oDpj5/dKldf9Ea+6VPhmSYg5/bz1xdZ7tc9fayhz6yD0cg29fai+pc9oKbX7eH/pIf37fIdp0/Qv60bfurd++0l60uPbcPfmCvme+y6+Yusx//5HP79dsW2HV1Q+Oe0QZifW5vXr2s+Nt+87a9Zo7LXjD8PhplIJZt27b9zcf22gtc9qL7Ph7570dt/7Z9U73LdrkX2Q98Ut4uJ9qpV9NqZol2pDDOW0/zrIE3AxnP9a34nmuic60fb1RF22VgOnQM3CiAND1AYG6yWEv5ZZ78n0ykPxlQGiqhXhDEt8MarMX80sA4JOGcePTbh7k1RuacCBvnFt+BrEPAIQX/FT6k3SkK+1V8cytYglFP0dYaR5/fwytXFWt28+9myFsqIZcMmMU1nr8XxDt0+UpMcuvaiP3eQ9crwdKqJCqeWSrsUPEMS4L5VpLMPpWO0ht34b0sxj8GcMqVbTNAmaTAdh2jnyPeLo+kEvzZFoKj/bnmGKS6omQmBOm9asg0SAsihGfOo70jjj8dwTMhR+r5AtbUEN7SABC13oN6KE76ZYlXnuod80xWf2n+YYd06jZtCieeo5Qb/lbBELmJfrqe95+c9IyD9lgK+Zoe/AM1mofAOsNL6EIFvUPDOMOL75hTCFpo61pof0sh8kJH8TimRvbXOtLMcLG8sTRyOy3kucO6TFl5YjdGyU1qZss1pXtY8eJ1QcbyDKvdtchuTqNPbi4N5NLJva8j17mH1HCVs00t+PbKLg4NGcB5nFGENLOV7tU5GtZpWFjke9qIzeklcoL65VnvxOh80cB3Xxh3qVZYuSCM//5G0puzRLx+JCSc13TR/GYDsQdi5Dx+sltlWn8+rNZSUlEnSyB5CV4z2Pooz2ql9YIULS9GSSz1E5lV/NzoM2DiwIqCQxVIPm4SvK/03Las4gWtDxKcahLXDKTpQTxjDCwzt8ZJT4mw0StDn46+n8HyoxwOGWViKZ1lkgbGX1RpUtxTLmi1tqXJGqC6hs2ZKKk4J0P6rTQ5qxtPnUL8+RYWvufGM9ODZ66f0D2RYuaZ5MF9tknix4uZ/bQH70wP3vOCdNwzZJLkAybmKP11JE8zXXMH+qiYaNvzMDGI9xyQp6/nNxdSwZW1yD4SI7tfJXzlYMd09w1b+M2KUtOLlS0VzsMGG+xJEdusI53Xiv/wyFmT/O90OCdwVIa3KB6rc0kDmbk+fP+2kd/cpla8zeHr8A8SHKjiwg/ljl6sJJcbWdLvmTDHOayJSi6uBvJOmrQWwVMvIQ0UNsN9p8xzHbIqT59w2ht4KFgU762qv9CM4z5TL+2gdaB7VH9xjXpplhePQ0K6510+GetYepLoLwpIc7sIDjStygHW/9qPdWbpJW9XDm2/hHvOkf1ZjZdjJHZZuG8PDN7DVh5tF6gXe0ae0WFHlIZADt98L4F73+WNqSNc9XK2OQYrF6NpXfboASymTuHQchqeH3a8CRKe63voWFBm8FaNsoshQcxxcF7VTce2BtrfMYt97ddE8T7fNbiC1nHQtmYxAO2R5TQ8Mfi5hYLcXxwMqwA4nDTf0Ux2aYyWYA7P6h4i5TazI+Gd40F6MUv23TyRWW7AwrSKXQ+PzikK/lsjg7MdDKz2N8eL7FCIpH9LpIzngjQ9RNecYu2UtVMj3y/jm1VJ/1kJ+R/Assota6Tifd5vFSvrquCUe1yafcVJbY/uAygVbx7LQN8nEW7voYtOYi9r5F7Lk3stSfL5VjY+1YxbctP6UDfW3TFS23JkdufIPJcgeVUPvbd5xxwUI00esmxdfx5tp4U0dIBUJVe1P0dmqwGTQviO6EM0pK/Q7hzafnDPOrJw1t/MoPVL+OYPBrtYGtpOC+UCD8OzrnJBK80vtxDblif7fJ7s8ym02CtH9HstZ5vqs9A2tBAtdxSQ7CPy82Y85TxjvixOQyWNVPs5QQIM9L9Y4PASutJDakOWzJ4w4akW+UwW/SwfHZeWV8s+3mB/2rRp49xTqKZPPhkzVCsZCPZOWlLK018geVM76b7yNpdmNrP+tmJZpAxdCWxPDm0fI/fHH4X+qwyaBd7/23dkeXzm4H2pb9fQcRKcObS+0yT7qxyWw41v7pDwdHcO7YCEe9bwe1PCd20rfi1KZneW9O4s6eeydGzZOKTfaznbjE3ytrLx+dajPrdebKHF7KDnyuOst/0Wy64TzqESvKeLXLClmN/+lCH1XgTfRcf73LEw9pnFBQju2UKkbozNp4eJXJ6i8UkLZXJl55bl0qwfXw4+l0bP7zLOIf3eDU2jgBN/fSkPlBlDSKr7cCyS36FhSm6841oEqZbXEjvSKRe0ShOLKzJYB4Zf5FLkLykoE02090189/QS7DTRd2lkn4sRey5O7LUQPRcY5HQPHYk36PjaIL8jS/qRKIlnYqSu7CWsUhrRbWGN1tm4n+LV25Mj9yW45ww2FVh9BYyznKjldFDfV6zSlzyjzwqgf1gqnOsVMAroZxSPre/VwaHiHtrBfreGtl/CU+8Gy6BgyDhVCfo0srtlQk+9S9gooL2VoPPuFJlf5WBRqVmxnG2GXvGDVnEQ0TG/4MCglTKuxYDvB+haHz7GLAkSnv/oofc/KjhmuSYWp/SwrCFv4CXWIQuQUb9X/MaSQ8ZzoZP83Y00fmXB9710PNVa1hx5ANI4g5Pygx/hVGSVarGkSpr59mXovC6OVsGzRz6vg54bjjHq3uEk9LNeQuUf8kilMtLYPuyBDBh7CkhTnaNWEOh/HCjbRgvkTLQP8zApiGcqmHt1mKIi9+vougUT3XiGdKUqlqFuwh6pWIZKTlQZzF1ZNAKsfzOEuVcj+2yUzidzZN83CV1WCkLK2KYmfItl1xEOcWIiCcVPx+0BcqsyKFetp+u4A1YAqRh89huY5ayWtS9LaruCZ2qe1B1R/C90lb10s2EYWIDy/YErLyFJUnGZ8GPuaaFt02BiAO85A5+ZFPZYOKeW+yKjo23XYWpwcDB6WSzMgyBNkst8obQGY58qTdN4ygWt8hw/PjlDrlDAwjl4ob8ukP8TyOf68Uk6iQejSM4tNE+VUet8hKYrGDsa0b62wMgSv9dAPjeC50wF99wgbqdF3p8cDFInKSgTSm9pR46tR7u/keVPQnNqC4H3cxRQCdcN3O0G6btjWLevJ1QKWs1dGTJ/VPEvGmEmAllBOQOkiUdPe2TtSpEyfoS8PQ8TA3imWmQ7OslftZFmF6VJyFXUIfO2Fn6dpYCTQJ2M+XILsUMdrL/EILaykfheH13ZHoKKE+9lzQQ3pUk7SzUi/fmxtxnG+NKASeox+rMCqATvq+E+rd8M++/JPvz/IqH9sYDez5C+SAaFPQZMDuKrA7DQNB331T1EZo7z3FLxTdyqdo2aUFsG8sOECroGTPTTsalG+rT2F0iEG4nuDbDxjVaMX2twlh/PQDO/mSF6d4HmRPOoQWvxwS+hHNU8bJB9MofaqJS6HHjwoBH7cRpfogOvQy4u1PEd55ByySD7Th6+F8I9ySJ7Z5T81T00m0lalnaSmx7hjU1h1CkeAtcFSf9CR/1BKWV6GdtU0RFlx7dZdk0YrKw4YXV0/TqZF3NIF3Sx/uaxWzzL5VnkR306Se49DWv+kJe0vhQtD8p03eMvncskc28c6+oeNjpTNC6N0bnOz5a7fCOkpRS8HT6YQfYtDRxu/P86+LxUJiuwwzh63EdfmpalbeRmrueNn0pkP7SQ6gYrrqwP43S+6mPj7WVGoKaG9gdQ/u3oFtZj6jcx9oFSX36ka5VmjajWdGs1H7Ra31jAkMmXlQCRm9M0ro0Ty3lLnbVNtEfiZCU/HTcHkMlDf57kz9IE7gsUM8t+Hf1rN15v6cf5LEXsmSA9VxUDX+uPBYyzfXgHClbJifNsi8xeHRjaZGKgbcvDlBBuSSP5agEJpdSvxyL/dCfpqWF6BvqY9mvErmsh2SeT442jm9klH6FLnGTeypIzB+aENcm/GCe6yST4U3+x69HZTtR9WWJ9XppLzQrOBX7UJzMU9lgwU8LY2knbUwWY4EOdZJB5C3w/UQAd82sZzzXN+EsPAeOdBKkvfTRfMpDFrTK2GcpA1y0Up7PGBiNUaKBv1qGBHj0qoR+3klkWJ/Z4kPXXFl80jDdjJHeoBKOt+M4EkFAUk9S97UgLVKQJEpJDQp6k4p7jw13GRZG+UyrxxnwTH0mB1JooGWOMvkXHCoinBum+Y/xrYdcCMxej7SUnXeOadsskfUsj8YKE/F0/HfHR1/Q+bF+GzuvjaAcspPld9N7oKf3BIH1LO/mLu4nMPb7HrTUwAOuMcms/aswBjdwOC/V8D8ofUsR3Mjg4xNJJ351E+l/rj/lwdV4YwvdYlOxbOuEr1dKuOZLrYuTcEbodJpYFiqpibU+Td/lpdQCo+Ba4iT2dp/A1qGea5O5vI77Dgn9SUfZnSfZ5aJ4K7DExHU5C1w6sXGaiPZUiP7OZSH0pIX8rY5tqOVx2DXzw7ZVdh1vYDpVaI487o5pk724iZobpeTQwRkVIZaRZrXRcnqPlF51E5/QQWaAgWTqpdWnUf+8pTXFpoD3TTuduHxvvUZAcYTquTNP4WCed83vpPn/YRbFyJB7M4bvNi4xF4blOYu+D+5qOI6a7U51OpD4d/QBHDgDMZ8l9qeCpVzFfjJM7IJW6cAB9WaIPGQTv8Zb/JXfk0L4uzldcEauA/hcJp6vcUNcqdYUu9YuugtoNWvuzdAbaSX9mQD9ElywkfXk3vTd4UC/roXdynNiDjSy8s3i/yHUB1vc241MpPqi/7yPg1uhsSsMEC8uScd/WXSysdAllVgD3n2M0hS2kCRaWw0n4Z614DvdLdeLxyCR25TEZWkOq4r8ySOYxjdgtOv7/3ELv76O039JATlFQ54bpvnHI25xDwT1TRfq1Qf53BVg0PFNJeG5cT9ehTjqXNiBPlAAZ57wgHY/6cZ4J5jVh0muSNF3nJLCm+3BhL81qZX27QfttDTTKMvLMMN0pL8kbosQaW3Bf1kW3AuCh+Y4QnQ910rRNKhZyiofmJ7oJDATXjjK2GcrKk98t4bmsSn2gjptB+qZGom/pGECmYx4LX2ym59EwzulhNm5Sif+sk8ZFJjhAUjyEHu0lNGuw8HKf60N6OkV8x7BDSyqBuzbSffGx29qkM4tBifU3s7jIQEV3oxPPFJPO5zWsqSE2PhvBM9Ik3/0U59QzDYy/6BTyGtkXUqR/Z8CHFumrA4TLHmxQY3YnaFlrEH6qddyBt3VAJfxYD8FjDPgoPNfE8vsNQk9soXm6n45n/bAzxvIXh75qKARuD5Fb1kLiuz2Ep4+/RLe+LvaJG5iv9ZQj+wldnia2LUH7/V7CyS0EHmkjurSRxHcVPJd30TXW4CI1SPfDJp33NLH4BRlZKt6D/mXr6ZmlABbh1X7anmhn+S4frdHB/rLOa9bT9ec2oo0NxM9ScC6JsGVDhrY1CZpWOAmsKQXMU0N0rC4QfbCJxseKZZ48PUjPz4ODA5nK2aYKCk830fRQDt0C/quJedv8RJLdBL6lsoszBufrLHMhvWOwyD/WQvuHXrqeCuM+4dlexndHL73uGLEHGlh4t4w8UcW3oouIVyK/oZHlD2sUp2nNk9jWStfMDIlfFPu0pVfNIzPRTfjhLbQO1Ew7PPjcOTpXJTGNAgVLxd/ZS+ulRw4Ql2d6cJMkvwcCQ2u154QIn1sg80I77e4QPVsCJG+L0bg0haI4Cd7aNfJzdxR5TcNwePDWV3jx9uTJ93sIl7vf4YHX8sldevxYqjPTVpmGzW128Nuau3PgfJmb7Pr6VfbrI0zVWjFtrb0yVuZcaKeC7WvtBfVHz3l4ShmenyqZHPCTDfaS+kX2nW98Ppgvvzlof/XHD+zHr59ru+ausd8e63jaWnuByzXyPJPl+OZT+5kr622Xy2Uv+MkHdvk/xUH781fuLM4D/NB4ZpasAd98am+4bIF90yvHkwFHm/vwyG1eX11vu+astDcPnUx3lLkPv8rcZC+45IHjmmf4g5/MtV2uCuZOPB2MNE/rqeTbnqd1eP6qJL+diLLr8HydI8wdXqEv0jfZC+avsjf/8fiOM27fjPLvUbZ5+7b64vy0ZT0vPrU3XFJ3AsrZY5VVX9jPXOmyXReNUu4cY57WTx9eYtddOdZc60NP9Yy97ATNzztetb2M67A32W+7D4V0XojgxBzpt45/ZRp9ewGlrjaXcqucRS6dgQtD+KvfrWv8huenCl5Sje05ChN9BOarg/nSISFP8RK+2o9i6hhjZZuJCrID2G8wrhzmcBK6J4JvIuib24luLfcoEuqiDjY+HIZMmvwp2KfWfC1G4kCA8PknOwPK+O97l99ke8oapCKfFybwtySx/xrvOuoW5r5STet3T+WbSyiXdG4zredV2FYwvOyq4Nl4QsouivN70n98y3mauShNa3WCP+8mWK0WH8co/x5tm4o4CS71or96YstZa1eKzluiZHSgL0tmB6jn+ipb4r0/T/plA99lgZGngRvJPrO0imOx9aMaajtorTaHh/BqL9pTSQrHk+H2ZYi/7yY49xRt7huuL03iHSfNK8qfwuZ0o8wP4DuQJv54DmNI3rD6csQfysD8IL6xnkMTFZQJgGVijHdJPDVI1+1+lH6d1J3lT08ExQmxI/N1cnvGee6q0Uk/m0VdFKiskB4vh1R+Ae1wE7hIJbcpRSUTZgwyMfcX+1crk07l3sZC2RQ37vGM2h/v6U5E2eVQSoPkTMy/ji8d1u4kLW1Z3J3raR7XNE1HMj5Mk9OP+zBjKHWHqKBbhHJJK6EJKRJlVyqMxSTzYCfJF9Pk9uik742hTQ7SsaKy/qzmWwnSZ4RovaCCl+P9xUFlKErVxkKIoHUMykUddDjTdP5ifI8ggMLLOdTVZc4TWvMM0vcmka7vGN/0KKcLNcj6VDc+I0FLsIGGpY00XtpA4w0JjPO62RIrY2DQGQqqDBwyML4cf1KUi7roulQFI0Pnj1OUX25LeG/sPmLgQDVZX5f5FNCzpH+n4D23NlsunOd6Uf6QJbt3PHubGH8FUFC+f1oUGEKtORFlF0pxZShMjC/HEYz1ZWhfFUda3UPXghMQ/pg54ndlME5m40RfipYF82h72SyOuVk4j+WP5Mfez+Gm+d4Q+iMxyp1a/NhkPBf4cU6W0O5vIXVmMxs3dY39ojGUmSX2sEHoruaK+mZbX5RaBZWxZg06eWp3IFbNUPDftR5zTYz4zO5xvRE6r+yg+SSkrBoKT3eSqeui+9K/54i1ZLKX0O3e8c9j6ShNV2YYGF8AU8faYTQyvlu7CG1fTvKdTtqf9LDxqm8hoOs3yD4eJf5qASQw+1X810VoPl/FfK6JhnU5DLMUiE5v5ZVNXpKLGkn+qbT/lDC9CZXY4k5yFnCml+Y2N8YOE6wCuR0m7ksiRK73HVFAWjty5HETGuV66VtjRJ/Iou+3kOrCdFyrkF6XQPuziVTfSvdtvrEfymae5Noo6YKB0e+h9f5hyzkey1Q3bkcSbYcJUyp8ivbr6H2AQ8V59phbnz4myFjvtNOwTca9Yj1dF50qtcwD81BbWErNTux3tOMtu5BQ1eLMNMaXBlQyQZWpEb2+k8KF6+m97AQ8R77Ok2htI+PqIHIyg9bJQdZngkdGTWW2wErTm+m5OUrb2jTucc10AtIZOvGrG0h+109HTzevXDzGDgNzNx+wkM7zDfmDQXptEunG9RVXWBh/Kc1Fe7Z6wqYkq1h1utIKgmDbB+23b663Xa46e2Xq+Ee0HdQesJfUuWxX3RJ7Q76SUWXj8YX9+s0L7LrLHrA/LnXI/yK9yp7rXmDf+cHAuQ/anz681K5z1durSgOmPn90qV1/0Rr7pU+GfN+Dn9vPXF1nu1z19rKHPjo8oOyr7WvtRXUue8HNr9tDh6l8fN8i23X+yIPXvnr3TnvZ6s32pwdt2z74gb1mvsuum7vMfvyTz+3Xb1tg19Uts585fLDRBjd8bm9evcxe+8FXxQE2c1z2guGDhI4xuMH+5mN77QXjHEj1183FgQ5z1thvf8sDTwWhEl9tWmm7XC67/ra3y9/pm0/tZ1bMtRfcduQ9PT4H7c/f2GCvOr/Odrnm2muyJ7vMEz66a4HtcrnspU+UPXTrhBPdAwShaiScLhWwiqubHe/RZjbTdb0HycoTvyWG9vXxp3A01jsxOl808F0Zxl1aREO5IIz/ezrpzdnStCgSzmu6aJ5pkXkgRq4vR3KrTOvPuwi4hrynS2qxqVHyErxmcGU5eVYrrRfI6C9GSXw4uLnRZxT7Ax/VTlQg+bhJ8I4gTgnAKs58PjNIcKqJphlI0714xljP3NwaJz0lUpwD+sviinVUsjqVozhIxegbx2CsvcWJ4Zk6fP14Qagtsqu4nLn5x+K0gWMzyHQ0EaeZnk5/ZbWN/RbWPgN9t0bu1RSJdW0s989jYXOMzF4LzvYTPFd0pzm5TAp7i7XqznOq19IqikVBqCLV5UYmj763gIX7OAe2Sbiv6SLyXiOd2xK0PeBjy+0nbmWZobStWQxAe2Q5DU8Mfm6hIPcPWUbS4aT5jmayS2O0BHN4VvcQKXuUsIR3jgfpxSzZd/NEZrkBC9OyQBpp+WAF/60RnANB6R4NbT945niRHQqR9G+JlFHiSdNDdM0pzj9s7dTI98v4ZlXS3UJC/gewSotGVPKbmnsLGIDicpc/olcQqmGqG7cE+mcFCkeswDUSC+1nLbQ9r2M5Oln8L52VnWuMZnjnRcHBOdaFk6Nfp7DXAocHdxXHQYifWRCqqc6DR0qR3V0s+I97NHxpGqxssJ18n87wRYhPjNLyxg6VwD1biNSNsfn0MJHLUzQ+aRXXAa+ALJcWWBwy2GP0IFDGOaQwNbRha96XeW0ldTBgzO/QMCU33nGNbh7HOmf5AhYSbs+pumiH8HdDduM+BzK/z5PvA+8x3rKsHQnib5moU498+bMOjX6PSBNGueeG38cTnISWiPvlpNufp9AH/MA9ZmvVySSCVkGopokePFMhuydPfj+4T0BhYO0zsKaE6b4neJJq66Ri8NlvYO4rY/N9WVLbFTxT86TuiOJ/oQtfmbGrYZQ6/n9/oDFRQpKkMpa+tdC2aTAxgPecgc9MCnssnFPLbZjU0bbrMDWIp6K2TAvzIEiTKl2G1SC/SweHG+9MMUerUOuceDwK/K5AfpcF6ui5XZrZTM8Lp8tw5L9Tn+TJWyDXeavadUn0aRWEqnLinaOCpaHtPO71EKEvTfsdGoGfRvAeR9xjbm1n4ZLYqBNiexb5UTHJvacdGTz2pWhZkxmyWIJJ5t441tXr2Xh/M+4vU3Suy46ymII1rBnQIPuWBg43/n8drKFRJiuwzzhijsniudP4yWdjAAAJyUlEQVS0+KYx+4YMppX7/9u7/9C46zuO40+x8AXLDjo81j+OFRYUe8yRWzt6WOFwtUfsTF3HUWsPF40l7sTqWTLTGc3kMNabncbWGpvJuTjSH3Lq6nW1XKHyFVeuzO6boVz2gys4voPIV1b4QgvfkZL90Vbb2jT55td9k74e/7Rp7r58ki/93uv7/ny+7w/mCQ/j1thX1WvvRC+5PT5a17kW1r8g3BjDVy+GERfn1Plx+uFZWEPAd+PEr6XOATJnxVbECeFiDU6+JaTMDbW/WTgYxFbG6tqfXaFVpM6iK+OEcbGOT/HC71XpfXKA8Jap7y4TWtpMxzPpMZcrGMuydN3XgLM3R/7ouWoonk3xxRKRtYlzSxJGHKzft5P7Z4JMUxhjaStd9zdgv50jd+QKj254FQo7KucDrUft7Rw9xyD6UNclrVkiDQ0Ywzb25RsyVE0qX4aJLY/gHihSOWPAhSnGYZP8LofUpvjEfwmDFazTBrHl/pp249WwvzBouNln27HPKlguhFf43NlGpE6M5QniC8H+pOKjP7TMPc65zycjRmJFfWeBFFpF6sxYkSSxCGoVc5K7KAE4lJ/pxGraTsdKHxcVz8O7UjU1Eie57GqVwhCJZ/ex7+kY9svrWPXjNazZmKN2ZzcdcYPqaxv40Q9vZ8M2E2eoSOE4cLpMYW8NsCk9ejs/iK+jZ/CiQy6IkYhWyD26mbZ719G2xyOZ20f/lkvv7EONMaJUqV6+k9eKNK23hXH+2Ennpwn63ttO6r+9bLi3hZbnTGJbu2lePPFfTdWycBbEiC/3WVc4WaU64v99tY8r2IRJrvYZkkXqZVGCxAoDhipUJrtzsQSfa2F+6mE0Jkn6uIbOBN3Pi9SbESe5OkzxXRPTztDgeyGqR3V3O4VQB30b/bzZofRkO/bj/WQuNOo/WaLnnRr2kEXDY31kGq8WvEJE13fRt77rG9+Jtu3jL4+c/2KE81eaZnb+tfnrF3317+ddH6KhKUt2vKbZSxIkbuqhfKwGjRdVMxfGyPzuvUs28ujakxznYGNxsE7U4HtJYjf6e2ftWAWnMUXC18W9RvmjGixOk/QbkkXqJkSyKUHuqEn5mEvqHq3Fno+842UqrkGsyWershmgSqtI3RkkfpokMmJRPux/ks05kqNzMEn3Vn/trewDOfJ2nOSFwDpSo7DfI/VEhuS3qpifTqF0smCMv4/1Gl8aSN0bx/6gNOaa28nwhorknsxTtoFhk/IgRG7zOVU/UqV00CGxvtnfQ3Any5T/fq51T1yZVeaQ0B3NJBd5VA6Xx1irPnnWi2tY9Yw5zUcVfzwqR0zchXGa76p3ZFVoFQmGZWlS3wfrYMnXEgFvqED7GwbZ59MTf6LTczB3t7HhqTLhZPKih4xCJDeliFDFGgoRjc5Wp1APzwPOnv9zAsI/y5K+vkjhyHR9TLqUd+QYOFCictKmtK0Ha3GKrk3+purdDwuUbkiTbfJXcaodLlG9PkZqvVr3yBwTSpC+J4L35xKl4ek9dGR1lm4/69Bl+rkmxQ9dwk1pmuvY6uoCLQ8QCYQGUj9PUniqSPFEKx3LJlBuc8rktgwQ3tiF8Y8KlbFed9bDc12cL21qQxbmUZPaKWBBlPTqi6bXF4SJhIHPLSw3SustU/+pxjVcZPPGPOZ/XMAkt+p2Spv66H94nPC2IEpmW5qWX/VgruyacAutsYWINSVpqFpYL22mFs3Qvz/trx+ha9LzukN623Z/LWE8i4FijdAdU3+ATmT2GcQ2pontzVM8UCP9sM8HEK8i3Fj/6ehrnXN4APNMlNb7E3XtGnCBQqtIQIR/kiH1+jqKb5XJLGseZ6rfofRCnvKXDt7LmynD2LvGfON/uYGxEIxbmr9eGnAR95MKtZsTxBb6/xl8W5xiZzl16RgnOOVvLM3Q98s87S+UiD7fPKkPN+MGm94H1zHw7SRdfds5NN562lNlcr/oxTrjYdyRuOgbDqUXBjC27Lyk08FEuEcKlL6Ikt413jkXCaglaTJ3F2jbP0Dlga4pL3FxjvZSGLSpDRqkX52Om1KZlJEqA3+oYNy5ndal9R7MOdeNjo6O1nsQInKO+0E7azpqpIvvkanLVnke5lOryH+nj0OPa6p6xo3U6E2tYyC6k0PPJxRaZe6yB2hZl4cnDtHv64HQy49TJH84SvYBl3wyR2jXIbIBCUzXGveDdlZ12mSK+2i9QoGjHrSmVSRAQndlyS63KewoUZcOMiM1KhbEVyiwzgbnTz0UhuNkH1NglTkukqbjwQas3b2Yp6dwnIVxWu+LYvzbwjoTJRqQsHTNGalSeK1M+L4O0gE6BwqtIoESIfXrLNHjPfR8NN3P4o7NfqedlufKOJ+VMM8mSapV6MxzK/S8UiG2pYtUnXsfikyH6EPdtN5Ypmd3dZxtlq9iUYTwQnAtC/vmGLEgLKS8Btl78wyMpOl+pL47YF1OoVUkaJak6d4axdzWQ2UqFQsfvFM2tlUi/6ZH66sdars04zwqO3KYt3bRvX62ujSIzDAjSnZbBuPdHIWhqRzIwzpRJbwspgex6sEuknvDJf2b7Ow82+CD1rSKBJKL+ewG8nSw71lNHc837kc5Nrxk0PVWB3GdXJlnnIPtbHgzws49WaKTuQEeqZJvbsN7+mO6Vk778ORqRmoMtLVhNvXTF8AbalVaRQIpROLpnaS/6CF3UPsjzivDJTpfcmh9RYFV5qfw3d3sXFWhc1tlchsODFewTsWINU73yOTqPKxdnZRu6mZ7AAMrqNIqEmyeg30qRGSx5uvnjdMO9v9CRBbpnMp85uF87hJaEp7gmkiH8nPtlJd2kznVTstQK4d+m9Qs0yxzbQcjMtFzNvsUWkVERKTObIqPtjBwNkZkUZTWra3ElFjlMgqtIiIiIhJ4WtMqIiIiIoEXyG1cXXf2+lOKiIiIiD+h0Oyv31ClVUREREQCL5CV1qkYHBys9xBEREREAqOxcX70D1OlVUREREQCb06G1vfff7/eQxARERGZl1paWuo9hCuac6FVgVVERERkZgUxuM6p0KrAKiIiIjI7ghZc50xoVWAVERERmV1BCq5zJrSuXbu23kMQERERuab09/fXewhfmTOhFRRcRURERGZLkAIrzLHQCgquIiIiIjMtaIEV4LrR0dHReg/iclPZxlWbC4iIiIh8bSY2F9A2riIiIiIiVzDvKq0iIiIiMrNUaRURERERuYJAVlpFRERERC6mSquIiIiIBJ5Cq4iIiIgEnkKriIiIiASeQquIiIiIBJ5Cq4iIiIgEnkKriIiIiASeQquIiIiIBJ5Cq4iIiIgEnkKriIiIiASeQquIiIiIBN7/ASQxsex8teOuAAAAAElFTkSuQmCC)\n",
        "https://pytorch.org/docs/stable/generated/torch.nn.CrossEntropyLoss.html"
      ]
    },
    {
      "cell_type": "markdown",
      "metadata": {
        "id": "7ELuSpzDKUyd"
      },
      "source": [
        "#### If you feel the same way, then take a look how i tried to boil down above equation.\n",
        "----\n",
        " \n",
        "#### Based on my perspective, that above equation is not being consistent, since they seems like try to combine the math style with the programming style. Apparently when i look closely, well... that actually just softmax & negative natural log likelihood\n",
        " \n",
        " \n",
        "#####...Now let's try to make it more mathy. \n",
        " \n",
        " \n",
        "---"
      ]
    },
    {
      "cell_type": "markdown",
      "metadata": {
        "id": "zf344i78Q0VT"
      },
      "source": [
        "######---- *Note : Notice that, i use the bold letter to represent a vector and non-bold as scalar. ----*\n",
        "\n",
        "#### First of all, let's have a look how softmax function looks like in general,\n",
        "\n",
        "> $$S(\\mathbf{x}) = \\mathbf{b}$$\n",
        "\n",
        "#### The above function $S$ take an input vector $\\mathbf{x}$ and output another vector $\\mathbf{b}$.\n",
        "> $$\\mathbf{b} = [ b_{1}, b_{2}, \\dots, b_{n}]$$\n",
        "### Below is the calculation for each $b_i$\n",
        "> $$b_i = \\displaystyle \\frac{e^x_i}{\\sum_{i=1}^{n} e^x_j}$$\n",
        "##### Since we make a use of the magical euler number $e$ , it turns out that the sum of $$b_{1}, b_{2}, \\dots, b_{n} = 1.0$$\n",
        "### Let the target class vector denoted as $\\mathbf{c}$.\n",
        "> $$\\mathbf{c} = [ c_{1}, c_{2}, \\dots, c_{n}]$$\n",
        "### Let the  *$b_i$ that correspond to the target class $c_i$ equal to $b_c$* .\n",
        "#### Then we attempt to maximize the $b_c$ by minimizing the negative natural log of $b_c$ shown as below\n",
        "> ### $$loss( \\mathbf{b} , \\mathbf{c}) =  - ln(b_{c})$$ \n",
        "\n",
        "\n",
        "\n",
        "\n",
        "\n"
      ]
    },
    {
      "cell_type": "markdown",
      "metadata": {
        "id": "jnDlJHS4NJFF"
      },
      "source": [
        "##### Let's see if it is true..."
      ]
    },
    {
      "cell_type": "code",
      "metadata": {
        "id": "8T39c1lzphKc"
      },
      "source": [
        "_x_      = [0,2,0,1]\n",
        "_target_ = [2]"
      ],
      "execution_count": null,
      "outputs": []
    },
    {
      "cell_type": "code",
      "metadata": {
        "colab": {
          "base_uri": "https://localhost:8080/"
        },
        "id": "77N4-av6esQO",
        "outputId": "cd736914-6f32-4477-cfcf-0bdfdadf7a86"
      },
      "source": [
        "import torch\n",
        "import torch.nn as nn\n",
        "from torch.autograd import Variable\n",
        " \n",
        "x_torchTensor = Variable(torch.FloatTensor(_x_)).view(1, -1)\n",
        "t_torchTensor = Variable(torch.LongTensor(_target_))\n",
        "print(f\"x_torchTensor = {x_torchTensor}\")\n",
        "print(f\"t_torchTensor = {t_torchTensor}\")"
      ],
      "execution_count": null,
      "outputs": [
        {
          "output_type": "stream",
          "text": [
            "x_torchTensor = tensor([[0., 2., 0., 1.]])\n",
            "t_torchTensor = tensor([2])\n"
          ],
          "name": "stdout"
        }
      ]
    },
    {
      "cell_type": "code",
      "metadata": {
        "colab": {
          "base_uri": "https://localhost:8080/"
        },
        "id": "Ryky2WWDe0wK",
        "outputId": "cdcc655c-9a65-4538-d578-18e6fc33e4e3"
      },
      "source": [
        "# Cross Entropy Loss (Version)\n",
        "criterion = nn.CrossEntropyLoss()\n",
        "torchLoss = criterion(x_torchTensor, t_torchTensor)\n",
        "print(f\"Pytorch Cross Entropy Loss = {torchLoss}\")"
      ],
      "execution_count": null,
      "outputs": [
        {
          "output_type": "stream",
          "text": [
            "Cross Entropy Loss = 2.49381160736084\n"
          ],
          "name": "stdout"
        }
      ]
    },
    {
      "cell_type": "code",
      "metadata": {
        "colab": {
          "base_uri": "https://localhost:8080/"
        },
        "id": "uhUdXJkGe35Z",
        "outputId": "d2db8506-eac1-4b3c-f37f-b30df08eb2bb"
      },
      "source": [
        "# Negative Log Likelihood and Softmax (Version)\n",
        "fsoftmax_ = nn.Softmax(dim=1)\n",
        "outSoftmax = fsoftmax_(x_torchTensor)\n",
        "softmax_t_ = outSoftmax[0,_target_] #index of target in outSoftmax\n",
        "print(f\"Softmax of x_torchTensor = {outSoftmax}\")\n",
        "print(f\"The index of target from the softmax probability : {softmax_t_}\")\n",
        "''''''''\n",
        "negLog = -1 * torch.log(softmax_t_)\n",
        "print(f\"Negative log of softmax_t_ = {negLog}\")"
      ],
      "execution_count": null,
      "outputs": [
        {
          "output_type": "stream",
          "text": [
            "Softmax of x_torchTensor = tensor([[0.0826, 0.6103, 0.0826, 0.2245]])\n",
            "The index of target from the softmax probability : tensor([0.0826])\n",
            "Negative log of softmax_t_ = tensor([2.4938])\n"
          ],
          "name": "stdout"
        }
      ]
    },
    {
      "cell_type": "code",
      "metadata": {
        "colab": {
          "base_uri": "https://localhost:8080/"
        },
        "id": "tUFKKjmZe-D_",
        "outputId": "a29f1bce-5972-4a08-bf82-33e03a90ac3d"
      },
      "source": [
        "# No Torch, Let's use Numpy \n",
        "# Negative Log Likelihood and Softmax (Version)\n",
        "import numpy as np \n",
        " \n",
        "x_npTensor = np.array(_x_)\n",
        "t_npTensor = np.array(_target_)\n",
        " \n",
        "def softmax_(x):\n",
        "  softmax_vector  = np.array([])\n",
        "  denominator = np.array([])\n",
        "  \n",
        "  ''' ∑ e^x_j '''\n",
        "  for x_j in x:\n",
        "    denominator = np.append(denominator, np.exp(x_j))  \n",
        "  denominator = np.sum(denominator)\n",
        " \n",
        "  ''' softmax_vector = [ e^x_i / ∑ e^x_j ]'''\n",
        "  for numerator in x:\n",
        "    softmax_vector = np.append(softmax_vector, np.exp(numerator)/denominator)\n",
        "    \n",
        "  return softmax_vector\n",
        " \n",
        "def neglogLoss(softmax_vector, target_vector):\n",
        "  negLog_vector = np.array([])\n",
        "  \n",
        "  for t in target_vector:    \n",
        "    negLog = -1 * np.log(softmax_vector[t])\n",
        "    negLog_vector = np.append(negLog_vector, negLog)\n",
        " \n",
        "  return negLog_vector\n",
        " \n",
        "softmax_vector = softmax_(x_npTensor)\n",
        " \n",
        "negLog_Vector = neglogLoss(softmax_vector, t_npTensor)\n",
        "print(f\"Negative log of softmax_t_ = {negLog_Vector}\")"
      ],
      "execution_count": null,
      "outputs": [
        {
          "output_type": "stream",
          "text": [
            "Negative log of softmax_t_ = [2.49381171]\n"
          ],
          "name": "stdout"
        }
      ]
    },
    {
      "cell_type": "code",
      "metadata": {
        "colab": {
          "base_uri": "https://localhost:8080/"
        },
        "id": "lmQZ5AQOnpTu",
        "outputId": "b5b19ade-a858-4d62-adf5-8492263ab464"
      },
      "source": [
        "# No Torch, Let's use Numpy \n",
        "# CrossEntropy Loss (Version)\n",
        " \n",
        "def crossEntropyLoss(x, target_vector):\n",
        "  softmax_vector = softmax_(x)\n",
        "  negLog_vector  = neglogLoss(softmax_vector, target_vector)\n",
        " \n",
        "  return negLog_Vector\n",
        " \n",
        "npLoss = CrossEntropyLoss(x_npTensor, t_npTensor)\n",
        "print(f\"Cross Entropy Loss = {npLoss}\")"
      ],
      "execution_count": null,
      "outputs": [
        {
          "output_type": "stream",
          "text": [
            "Cross Entropy Loss = [2.49381171]\n"
          ],
          "name": "stdout"
        }
      ]
    }
  ]
}